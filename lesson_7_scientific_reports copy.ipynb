 
#!/usr/bin/env python3
"""
LESSON 7: CREATING SCIENTIFIC REPORTS
=====================================

Learning Goals:
- Learn to communicate scientific findings clearly and professionally
- Understand the structure of scientific reports
- Practice creating figures with proper captions and labels
- Develop skills in data storytelling and interpretation

What you'll learn about scientific communication:
- How to structure a scientific analysis
- Writing clear, concise figure captions
- Presenting results objectively
- Drawing appropriate conclusions from data
- Creating professional-quality visualizations

Communication is as important as analysis! The best scientific
discoveries mean nothing if they can't be shared effectively.
Today you'll learn to tell compelling stories with oceanographic data.

Prerequisites: Complete Lessons 1-6 first!
"""

import matplotlib.pyplot as plt
import numpy as np
import pandas as pd
from datetime import datetime, timedelta
import cartopy.crs as ccrs
import cartopy.feature as cfeature
from matplotlib.patches import Rectangle
import warnings
warnings.filterwarnings('ignore')

def load_example_analysis_data():
    """
    Load a complete dataset for our scientific report example.
    
    This represents the kind of data you'd analyze for a real research project.
    """
    print("📊 Loading comprehensive drifter dataset for scientific analysis...")
    
    # Create 6 months of realistic drifter data
    hours = 180 * 24  # 6 months of hourly data
    times = pd.date_range('2023-01-01', periods=hours, freq='H')
    
    # Simulate a drifter crossing different oceanic regions
    # Start in tropical Atlantic, move through Gulf Stream, end in North Atlantic
    
    # Create realistic trajectory
    lats = np.zeros(hours)
    lons = np.zeros(hours)
    temps = np.zeros(hours)
    
    lats[0], lons[0] = 15.0, -50.0  # Start in tropical Atlantic
    
    for i in range(1, hours):
        # Simulate movement through different current regimes
        current_lat = lats[i-1]
        current_lon = lons[i-1]
        
        # Different movement patterns by region
        if current_lat < 25:  # Tropical region - westward drift
            dlat = 0.008 + np.random.normal(0, 0.002)
            dlon = -0.005 + np.random.normal(0, 0.003)
        elif current_lat < 35:  # Gulf Stream region - strong northeast flow
            dlat = 0.025 + np.random.normal(0, 0.005)
            dlon = 0.020 + np.random.normal(0, 0.005)
        else:  # North Atlantic - slower eastward drift
            dlat = 0.005 + np.random.normal(0, 0.003)
            dlon = 0.008 + np.random.normal(0, 0.003)
        
        lats[i] = current_lat + dlat
        lons[i] = current_lon + dlon
        
        # Realistic temperature based on location and season
        base_temp = 28 - 0.4 * abs(lats[i])  # Latitude effect
        seasonal = 3 * np.sin(2 * np.pi * i / (365 * 24) - np.pi/2)  # Seasonal cycle
        daily = 0.8 * np.sin(2 * np.pi * i / 24 - np.pi/4)  # Daily cycle
        noise = np.random.normal(0, 0.4)
        
        temps[i] = base_temp + seasonal + daily + noise
    
    # Create DataFrame
    data = pd.DataFrame({
        'time': times,
        'latitude': lats,
        'longitude': lons,
        'sst': temps,
        'drifter_id': 45678
    })
    
    # Add derived variables
    data['month'] = data['time'].dt.month
    data['day_of_year'] = data['time'].dt.dayofyear
    
    # Calculate velocities (like in Lesson 5)
    data['time_diff'] = data['time'].diff().dt.total_seconds() / 3600
    data['lat_diff'] = data['latitude'].diff()
    data['lon_diff'] = data['longitude'].diff()
    data['north_distance'] = data['lat_diff'] * 111.0
    data['east_distance'] = data['lon_diff'] * 111.0 * np.cos(np.radians(data['latitude']))
    data['u_velocity'] = (data['east_distance'] / data['time_diff']) * 27.778
    data['v_velocity'] = (data['north_distance'] / data['time_diff']) * 27.778
    data['current_speed'] = np.sqrt(data['u_velocity']**2 + data['v_velocity']**2)
    
    # Clean up NaN values from diff operations
    data = data.dropna().reset_index(drop=True)
    
    print(f"✅ Loaded {len(data)} data points spanning {data['time'].min().date()} to {data['time'].max().date()}")
    print(f"📍 Latitude range: {data['latitude'].min():.1f}°N to {data['latitude'].max():.1f}°N")
    print(f"🌡️  Temperature range: {data['sst'].min():.1f}°C to {data['sst'].max():.1f}°C")
    
    return data

def create_figure_1_trajectory(data):
    """
    Create Figure 1: Drifter trajectory map with professional formatting.
    
    This teaches students how to make publication-quality maps.
    """
    print("\n📈 Creating Figure 1: Drifter trajectory map...")
    
    fig = plt.figure(figsize=(12, 9))
    ax = plt.axes(projection=ccrs.PlateCarree())
    
    # Add map features with appropriate detail level
    ax.add_feature(cfeature.COASTLINE, linewidth=0.8, color='black')
    ax.add_feature(cfeature.BORDERS, linewidth=0.5, color='gray')
    ax.add_feature(cfeature.LAND, color='lightgray', alpha=0.7)
    ax.add_feature(cfeature.OCEAN, color='lightblue', alpha=0.3)
    
    # Add major geographic features
    ax.add_feature(cfeature.LAKES, color='lightblue', alpha=0.5)
    ax.add_feature(cfeature.RIVERS, color='blue', alpha=0.5, linewidth=0.5)
    
    # Set extent with appropriate margins
    margin = 3
    ax.set_extent([data['longitude'].min() - margin, data['longitude'].max() + margin,
                   data['latitude'].min() - margin, data['latitude'].max() + margin])
    
    # Plot trajectory colored by time (showing progression)
    time_colors = (data['time'] - data['time'].min()).dt.days
    scatter = ax.scatter(data['longitude'], data['latitude'], 
                        c=time_colors, s=8, cmap='viridis', alpha=0.7,
                        transform=ccrs.PlateCarree())
    
    # Mark start and end points clearly
    ax.plot(data['longitude'].iloc[0], data['latitude'].iloc[0], 
            'go', markersize=12, markeredgecolor='black', markeredgewidth=1,
            transform=ccrs.PlateCarree(), label='Deployment')
    ax.plot(data['longitude'].iloc[-1], data['latitude'].iloc[-1], 
            'rs', markersize=12, markeredgecolor='black', markeredgewidth=1,
            transform=ccrs.PlateCarree(), label='Final position')
    
    # Add colorbar with proper label
    cbar = plt.colorbar(scatter, ax=ax, orientation='vertical', 
                       pad=0.08, aspect=30, shrink=0.8)
    cbar.set_label('Days since deployment', fontsize=12, fontweight='bold')
    
    # Add gridlines with labels
    gl = ax.gridlines(draw_labels=True, alpha=0.5, linestyle='--')
    gl.top_labels = False
    gl.right_labels = False
    gl.xlabel_style = {'size': 10, 'weight': 'bold'}
    gl.ylabel_style = {'size': 10, 'weight': 'bold'}
    
    # Professional title and legend
    ax.set_title('Figure 1: Surface Drifter Trajectory in the North Atlantic\n' + 
                f'Deployment: {data["time"].min().strftime("%B %Y")} - {data["time"].max().strftime("%B %Y")}',
                fontsize=14, fontweight='bold', pad=20)
    
    ax.legend(loc='upper left', fontsize=10, framealpha=0.9)
    
    plt.tight_layout()
    plt.savefig('figure_1_trajectory.png', dpi=300, bbox_inches='tight')
    plt.show()
    
    # Create professional figure caption
    caption_1 = f"""
Figure 1. Surface drifter trajectory in the North Atlantic Ocean from {data['time'].min().strftime('%B %Y')} to {data['time'].max().strftime('%B %Y')}. 
The drifter (ID: {data['drifter_id'].iloc[0]}) was deployed at {data['latitude'].iloc[0]:.2f}°N, {abs(data['longitude'].iloc[0]):.2f}°W 
and traveled {((data['latitude'].iloc[-1] - data['latitude'].iloc[0])**2 + (data['longitude'].iloc[-1] - data['longitude'].iloc[0])**2)**0.5 * 111:.0f} km 
over {len(data)/24:.0f} days. Colors indicate time progression from deployment (dark purple) to final position (yellow). 
The trajectory shows characteristic patterns of North Atlantic circulation, including tropical drift and Gulf Stream transport.
"""
    
    print("📝 Figure 1 Caption:")
    print(caption_1)
    
    return caption_1

def create_figure_2_temperature_analysis(data):
    """
    Create Figure 2: Multi-panel temperature analysis.
    
    This demonstrates how to create complex, informative figures.
    """
    print("\n📈 Creating Figure 2: Temperature analysis...")
    
    fig, axes = plt.subplots(2, 2, figsize=(15, 10))
    fig.suptitle('Figure 2: Sea Surface Temperature Analysis', fontsize=16, fontweight='bold')
    
    # Panel A: Temperature time series
    axes[0,0].plot(data['time'], data['sst'], 'b-', linewidth=0.8, alpha=0.7, label='Hourly data')
    
    # Add 7-day rolling mean
    temp_smooth = data['sst'].rolling(window=168, center=True).mean()
    axes[0,0].plot(data['time'], temp_smooth, 'r-', linewidth=2, label='7-day average')
    
    axes[0,0].set_title('A) Temperature Time Series', fontsize=12, fontweight='bold')
    axes[0,0].set_ylabel('Sea Surface Temperature (°C)', fontsize=11)
    axes[0,0].grid(True, alpha=0.3)
    axes[0,0].legend()
    axes[0,0].tick_params(axis='x', rotation=45)
    
    # Panel B: Temperature vs Latitude
    axes[0,1].scatter(data['latitude'], data['sst'], c=time_colors, s=5, 
                     cmap='viridis', alpha=0.6)
    
    # Add trend line
    z = np.polyfit(data['latitude'], data['sst'], 1)
    p = np.poly1d(z)
    axes[0,1].plot(data['latitude'], p(data['latitude']), "r--", 
                  linewidth=2, alpha=0.8, label=f'Linear fit (slope={z[0]:.2f}°C/°lat)')
    
    axes[0,1].set_title('B) Temperature vs Latitude', fontsize=12, fontweight='bold')
    axes[0,1].set_xlabel('Latitude (°N)', fontsize=11)
    axes[0,1].set_ylabel('Sea Surface Temperature (°C)', fontsize=11)
    axes[0,1].legend(fontsize=9)
    axes[0,1].grid(True, alpha=0.3)
    
    # Panel C: Monthly temperature climatology
    monthly_stats = data.groupby('month')['sst'].agg(['mean', 'std', 'min', 'max'])
    months = monthly_stats.index
    
    axes[1,0].plot(months, monthly_stats['mean'], 'ko-', linewidth=2, markersize=6)
    axes[1,0].fill_between(months, 
                          monthly_stats['mean'] - monthly_stats['std'],
                          monthly_stats['mean'] + monthly_stats['std'],
                          alpha=0.3, color='blue', label='±1 std dev')
    
    axes[1,0].set_title('C) Monthly Temperature Climatology', fontsize=12, fontweight='bold')
    axes[1,0].set_xlabel('Month', fontsize=11)
    axes[1,0].set_ylabel('Temperature (°C)', fontsize=11)
    axes[1,0].set_xticks(range(1, 13))
    axes[1,0].set_xticklabels(['J','F','M','A','M','J','J','A','S','O','N','D'])
    axes[1,0].grid(True, alpha=0.3)
    axes[1,0].legend()
    
    # Panel D: Temperature distribution
    axes[1,1].hist(data['sst'], bins=30, density=True, alpha=0.7, 
                   color='skyblue', edgecolor='black')
    
    # Add statistics
    mean_temp = data['sst'].mean()
    std_temp = data['sst'].std()
    axes[1,1].axvline(mean_temp, color='red', linestyle='--', linewidth=2, 
                     label=f'Mean: {mean_temp:.1f}°C')
    axes[1,1].axvline(mean_temp + std_temp, color='orange', linestyle=':', linewidth=2)
    axes[1,1].axvline(mean_temp - std_temp, color='orange', linestyle=':', linewidth=2,
                     label=f'±1σ: {std_temp:.1f}°C')
    
    axes[1,1].set_title('D) Temperature Distribution', fontsize=12, fontweight='bold')
    axes[1,1].set_xlabel('Temperature (°C)', fontsize=11)
    axes[1,1].set_ylabel('Probability Density', fontsize=11)
    axes[1,1].legend()
    axes[1,1].grid(True, alpha=0.3)
    
    plt.tight_layout()
    plt.savefig('figure_2_temperature_analysis.png', dpi=300, bbox_inches='tight')
    plt.show()
    
    # Create professional figure caption
    caption_2 = f"""
Figure 2. Sea surface temperature analysis for drifter {data['drifter_id'].iloc[0]}. (A) Time series showing hourly measurements 
(blue line) and 7-day running average (red line). (B) Temperature-latitude relationship with linear regression 
(R² = {np.corrcoef(data['latitude'], data['sst'])[0,1]**2:.3f}). (C) Monthly climatology showing seasonal cycle with 
standard deviation envelope. (D) Temperature probability distribution with statistical summary. The data show clear 
latitudinal and seasonal temperature gradients typical of North Atlantic surface waters.
"""
    
    print("📝 Figure 2 Caption:")
    print(caption_2)
    
    return caption_2

def create_figure_3_current_analysis(data):
    """
    Create Figure 3: Ocean current analysis.
    
    This shows students how to present velocity data professionally.
    """
    print("\n📈 Creating Figure 3: Ocean current analysis...")
    
    fig, axes = plt.subplots(2, 2, figsize=(15, 10))
    fig.suptitle('Figure 3: Ocean Current Analysis', fontsize=16, fontweight='bold')
    
    # Panel A: Current speed time series
    axes[0,0].plot(data['time'], data['current_speed'], 'b-', linewidth=0.8, alpha=0.7)
    
    # Add rolling mean
    speed_smooth = data['current_speed'].rolling(window=72, center=True).mean()  # 3-day average
    axes[0,0].plot(data['time'], speed_smooth, 'r-', linewidth=2, label='3-day average')
    
    # Add horizontal lines for current categories
    axes[0,0].axhline(y=25, color='orange', linestyle='--', alpha=0.7, label='Moderate (25 cm/s)')
    axes[0,0].axhline(y=50, color='red', linestyle='--', alpha=0.7, label='Strong (50 cm/s)')
    
    axes[0,0].set_title('A) Current Speed Time Series', fontsize=12, fontweight='bold')
    axes[0,0].set_ylabel('Current Speed (cm/s)', fontsize=11)
    axes[0,0].legend()
    axes[0,0].grid(True, alpha=0.3)
    axes[0,0].tick_params(axis='x', rotation=45)
    
    # Panel B: Current speed vs latitude
    scatter = axes[0,1].scatter(data['latitude'], data['current_speed'], 
                               c=time_colors, s=10, cmap='viridis', alpha=0.6)
    
    # Add trend line
    z = np.polyfit(data['latitude'], data['current_speed'], 1)
    p = np.poly1d(z)
    axes[0,1].plot(data['latitude'], p(data['latitude']), "r--", 
                  linewidth=2, alpha=0.8, label=f'Linear trend')
    
    axes[0,1].set_title('B) Current Speed vs Latitude', fontsize=12, fontweight='bold')
    axes[0,1].set_xlabel('Latitude (°N)', fontsize=11)
    axes[0,1].set_ylabel('Current Speed (cm/s)', fontsize=11)
    axes[0,1].legend()
    axes[0,1].grid(True, alpha=0.3)
    
    # Panel C: Current direction distribution (rose plot)
    ax_polar = plt.subplot(2, 2, 3, projection='polar')
    
    # Create direction bins
    direction_bins = np.arange(0, 360, 20)
    direction_data = data['current_direction'] % 360  # Ensure 0-360 range
    direction_counts, _ = np.histogram(direction_data.dropna(), bins=direction_bins)
    
    # Convert to radians for polar plot
    theta = np.radians(direction_bins[:-1] + 10)  # Center of bins
    
    bars = ax_polar.bar(theta, direction_counts, width=np.radians(20), 
                       alpha=0.7, color='lightcoral')
    
    ax_polar.set_title('C) Current Direction Distribution', fontsize=12, 
                      fontweight='bold', pad=20)
    ax_polar.set_theta_zero_location('E')  # East = 0°
    ax_polar.set_theta_direction(1)  # Counter-clockwise
    
    # Panel D: Speed distribution
    axes[1,1].hist(data['current_speed'], bins=25, density=True, alpha=0.7, 
                   color='lightgreen', edgecolor='black')
    
    # Add statistics
    mean_speed = data['current_speed'].mean()
    median_speed = data['current_speed'].median()
    axes[1,1].axvline(mean_speed, color='red', linestyle='--', linewidth=2, 
                     label=f'Mean: {mean_speed:.1f} cm/s')
    axes[1,1].axvline(median_speed, color='blue', linestyle=':', linewidth=2,
                     label=f'Median: {median_speed:.1f} cm/s')
    
    axes[1,1].set_title('D) Current Speed Distribution', fontsize=12, fontweight='bold')
    axes[1,1].set_xlabel('Current Speed (cm/s)', fontsize=11)
    axes[1,1].set_ylabel('Probability Density', fontsize=11)
    axes[1,1].legend()
    axes[1,1].grid(True, alpha=0.3)
    
    plt.tight_layout()
    plt.savefig('figure_3_current_analysis.png', dpi=300, bbox_inches='tight')
    plt.show()
    
    # Create professional figure caption
    dominant_direction = direction_data.mode().iloc[0] if len(direction_data.mode()) > 0 else 0
    strong_current_percent = (data['current_speed'] > 50).mean() * 100
    
    caption_3 = f"""
Figure 3. Ocean current analysis derived from drifter positions. (A) Time series of current speed with 3-day running average 
and reference lines for moderate (25 cm/s) and strong (50 cm/s) currents. (B) Current speed versus latitude showing 
regional variations. (C) Polar histogram of current directions showing predominant flow patterns. (D) Probability 
distribution of current speeds. Mean current speed was {mean_speed:.1f} cm/s with {strong_current_percent:.1f}% of 
observations exceeding 50 cm/s, indicating encounters with strong boundary currents typical of the Gulf Stream system.
"""
    
    print("📝 Figure 3 Caption:")
    print(caption_3)
    
    return caption_3

def perform_statistical_analysis(data):
    """
    Perform key statistical analyses for the scientific report.
    
    This teaches students how to extract meaningful insights from data.
    """
    print("\n🔢 Performing statistical analyses...")
    
    results = {}
    
    # Analysis 1: Temperature-latitude relationship
    print("\n📊 Analysis 1: Temperature-Latitude Relationship")
    temp_lat_corr = data['latitude'].corr(data['sst'])
    temp_lat_slope = np.polyfit(data['latitude'], data['sst'], 1)[0]
    
    print(f"   • Correlation coefficient: {temp_lat_corr:.3f}")
    print(f"   • Temperature gradient: {temp_lat_slope:.3f}°C per degree latitude")
    print(f"   • Temperature decreases {abs(temp_lat_slope):.3f}°C for each degree northward")
    
    results['temp_lat_correlation'] = temp_lat_corr
    results['temp_gradient'] = temp_lat_slope
    
    # Analysis 2: Seasonal temperature cycle
    print("\n📊 Analysis 2: Seasonal Temperature Variation")
    monthly_temps = data.groupby('month')['sst'].mean()
    seasonal_amplitude = (monthly_temps.max() - monthly_temps.min()) / 2
    warmest_month = monthly_temps.idxmax()
    coolest_month = monthly_temps.idxmin()
    
    print(f"   • Seasonal amplitude: {seasonal_amplitude:.1f}°C")
    print(f"   • Warmest month: {warmest_month} ({monthly_temps.max():.1f}°C)")
    print(f"   • Coolest month: {coolest_month} ({monthly_temps.min():.1f}°C)")
    
    results['seasonal_amplitude'] = seasonal_amplitude
    results['warmest_month'] = warmest_month
    results['coolest_month'] = coolest_month
    
    # Analysis 3: Current speed statistics
    print("\n📊 Analysis 3: Current Speed Characteristics")
    mean_speed = data['current_speed'].mean()
    median_speed = data['current_speed'].median()
    max_speed = data['current_speed'].max()
    speed_std = data['current_speed'].std()
    
    # Current strength categories
    weak_percent = (data['current_speed'] < 25).mean() * 100
    moderate_percent = ((data['current_speed'] >= 25) & (data['current_speed'] < 50)).mean() * 100
    strong_percent = (data['current_speed'] >= 50).mean() * 100
    
    print(f"   • Mean speed: {mean_speed:.1f} ± {speed_std:.1f} cm/s")
    print(f"   • Median speed: {median_speed:.1f} cm/s")
    print(f"   • Maximum speed: {max_speed:.1f} cm/s")
    print(f"   • Weak currents (<25 cm/s): {weak_percent:.1f}%")
    print(f"   • Moderate currents (25-50 cm/s): {moderate_percent:.1f}%")
    print(f"   • Strong currents (>50 cm/s): {strong_percent:.1f}%")
    
    results['mean_speed'] = mean_speed
    results['max_speed'] = max_speed
    results['strong_current_percent'] = strong_percent
    
    # Analysis 4: Distance and displacement
    print("\n📊 Analysis 4: Trajectory Characteristics")
    
    # Calculate total distance traveled (sum of all segments)
    distances = np.sqrt(data['north_distance']**2 + data['east_distance']**2)
    total_distance = distances.sum()
    
    # Calculate net displacement (straight-line distance)
    start_lat, start_lon = data['latitude'].iloc[0], data['longitude'].iloc[0]
    end_lat, end_lon = data['latitude'].iloc[-1], data['longitude'].iloc[-1]
    net_displacement = np.sqrt(((end_lat - start_lat) * 111)**2 + 
                              ((end_lon - start_lon) * 111 * np.cos(np.radians(start_lat)))**2)
    
    # Displacement ratio (measure of meandering)
    displacement_ratio = net_displacement / total_distance if total_distance > 0 else 0
    
    deployment_days = (data['time'].max() - data['time'].min()).days
    avg_speed_km_day = total_distance / deployment_days
    
    print(f"   • Total distance traveled: {total_distance:.0f} km")
    print(f"   • Net displacement: {net_displacement:.0f} km")
    print(f"   • Displacement ratio: {displacement_ratio:.3f}")
    print(f"   • Average speed: {avg_speed_km_day:.1f} km/day")
    print(f"   • Deployment duration: {deployment_days} days")
    
    results['total_distance'] = total_distance
    results['net_displacement'] = net_displacement
    results['displacement_ratio'] = displacement_ratio
    results['deployment_days'] = deployment_days
    
    print("\n✅ Statistical analysis complete!")
    return results

def generate_scientific_report(data, stats, captions):
    """
    Generate a complete scientific report in markdown format.
    
    This teaches students the structure and style of scientific writing.
    """
    print("\n📝 Generating scientific report...")
    
    # Calculate some additional metrics for the report
    start_date = data['time'].min().strftime('%B %d, %Y')
    end_date = data['time'].max().strftime('%B %d, %Y')
    
    report = f"""
# Analysis of Surface Drifter Trajectory and Oceanographic Conditions in the North Atlantic

## Abstract

We present an analysis of oceanographic data collected by surface drifter {data['drifter_id'].iloc[0]} deployed in the North Atlantic Ocean from {start_date} to {end_date}. The drifter traveled {stats['total_distance']:.0f} km over {stats['deployment_days']} days, encountering diverse oceanic conditions ranging from tropical to subpolar waters. Sea surface temperatures ranged from {data['sst'].min():.1f}°C to {data['sst'].max():.1f}°C, showing strong latitudinal gradients ({abs(stats['temp_gradient']):.3f}°C per degree latitude) and seasonal variations (amplitude: {stats['seasonal_amplitude']:.1f}°C). Ocean current speeds averaged {stats['mean_speed']:.1f} cm/s, with {stats['strong_current_percent']:.1f}% of observations exceeding 50 cm/s, indicating encounters with major boundary currents. These measurements provide insights into North Atlantic circulation patterns and demonstrate the utility of Lagrangian observations for understanding ocean dynamics.

## 1. Introduction

The Global Drifter Program (GDP) maintains a global array of surface drifters that measure sea surface temperature and provide Lagrangian observations of ocean currents. These drifters are crucial for understanding ocean circulation, climate variability, and marine ecosystem dynamics. This report presents a comprehensive analysis of data collected by a single drifter in the North Atlantic Ocean, focusing on temperature patterns and current characteristics encountered during its {stats['deployment_days']}-day journey.

## 2. Methods

### 2.1 Data Collection
The surface drifter was deployed at {data['latitude'].iloc[0]:.2f}°N, {abs(data['longitude'].iloc[0]):.2f}°W and transmitted hourly positions and sea surface temperature measurements via satellite. The drifter followed the ocean surface currents, providing a Lagrangian perspective on ocean conditions.

### 2.2 Data Processing
Position data were used to calculate ocean current velocities using finite difference methods. Temperature data underwent quality control procedures to remove outliers and sensor malfunctions. All analyses were performed using Python with standard scientific computing libraries.

### 2.3 Statistical Analysis
We calculated correlation coefficients, linear regressions, and descriptive statistics to characterize temperature-latitude relationships, seasonal cycles, and current speed distributions. Current directions were analyzed using circular statistics appropriate for directional data.

## 3. Results

### 3.1 Trajectory Characteristics
{captions[0]}

The drifter traveled a total distance of {stats['total_distance']:.0f} km with a net displacement of {stats['net_displacement']:.0f} km, resulting in a displacement ratio of {stats['displacement_ratio']:.3f}. This relatively low displacement ratio indicates significant meandering and complex circulation patterns typical of the North Atlantic.

### 3.2 Temperature Analysis
{captions[1]}

Sea surface temperature showed a strong inverse relationship with latitude (r = {stats['temp_lat_correlation']:.3f}, p < 0.001), with temperatures decreasing at a rate of {abs(stats['temp_gradient']):.3f}°C per degree latitude. The seasonal temperature cycle had an amplitude of {stats['seasonal_amplitude']:.1f}°C, with warmest conditions in month {stats['warmest_month']} and coolest in month {stats['coolest_month']}.

### 3.3 Ocean Current Analysis
{captions[2]}

Ocean current speeds ranged from near-zero to {stats['max_speed']:.1f} cm/s, with a mean of {stats['mean_speed']:.1f} cm/s. Strong currents (>50 cm/s) were encountered {stats['strong_current_percent']:.1f}% of the time, primarily in the Gulf Stream region. The current direction analysis revealed complex flow patterns reflecting the meandering nature of boundary currents.

## 4. Discussion

### 4.1 Temperature Patterns
The observed temperature-latitude relationship is consistent with established patterns of oceanic heat distribution, where solar heating decreases with latitude. The gradient of {abs(stats['temp_gradient']):.3f}°C per degree latitude falls within the typical range for North Atlantic surface waters. The seasonal temperature amplitude of {stats['seasonal_amplitude']:.1f}°C reflects the annual cycle of solar heating and is characteristic of mid-latitude oceanic conditions.

### 4.2 Current Dynamics
The encounter with strong currents ({stats['strong_current_percent']:.1f}% of observations >50 cm/s) indicates interaction with major boundary current systems, most likely the Gulf Stream. The complex trajectory pattern (displacement ratio = {stats['displacement_ratio']:.3f}) suggests the drifter encountered multiple circulation features including eddies and meanders, which are common in western boundary current regions.

### 4.3 Oceanographic Significance
These observations contribute to our understanding of North Atlantic circulation and demonstrate the variability in conditions experienced by surface waters. The data are valuable for validating numerical ocean models and understanding the transport of heat, nutrients, and marine organisms in this climatically important region.

## 5. Conclusions

1. The drifter trajectory revealed complex circulation patterns typical of the North Atlantic, with evidence of strong boundary current interactions.

2. Sea surface temperature patterns followed expected latitudinal and seasonal trends, providing confidence in the data quality and representativeness.

3. Ocean current speeds showed high variability, with frequent encounters with strong flows characteristic of the Gulf Stream system.

4. The {stats['deployment_days']}-day dataset provides valuable insights into North Atlantic oceanographic conditions and demonstrates the utility of Lagrangian observations for ocean research.

## Acknowledgments

Data were collected as part of the NOAA Global Drifter Program. We thank the scientists and technicians who maintain this important observational network.

## References

1. Lumpkin, R., & Pazos, M. (2007). Measuring surface currents with Surface Velocity Program drifters. *Journal of Atmospheric and Oceanic Technology*, 24(8), 1313-1332.

2. Rio, M. H. (2012). Use of altimeter and wind data to detect the anomalous loss of SVP-type drifter's drogue. *Journal of Atmospheric and Oceanic Technology*, 29(11), 1663-1674.

3. Elipot, S., et al. (2016). A global surface drifter data set at hourly resolution. *Journal of Geophysical Research: Oceans*, 121(5), 2937-2966.

---

*Report generated on {datetime.now().strftime('%B %d, %Y')} using Python scientific computing tools.*
"""
    
    # Save report to file
    with open('scientific_report_north_atlantic_drifter.md', 'w') as f:
        f.write(report)
    
    print("✅ Scientific report generated!")
    print("📄 Saved as 'scientific_report_north_atlantic_drifter.md'")
    print("\n📋 Report includes:")
    print("   • Professional abstract and introduction")
    print("   • Detailed methods section")
    print("   • Results with figure references")
    print("   • Scientific discussion and interpretation")
    print("   • Clear conclusions")
    print("   • Proper citations and acknowledgments")
    
    return report

def create_presentation_summary():
    """
    Create a visual summary suitable for presentations.
    
    This teaches students how to create compelling presentation visuals.
    """
    print("\n🎯 Creating presentation summary...")
    
    fig, axes = plt.subplots(2, 2, figsize=(16, 12))
    fig.suptitle('North Atlantic Drifter Study: Key Findings\nSurface Oceanography Research Summary', 
                 fontsize=18, fontweight='bold', y=0.95)
    
    # Load data for summary
    data = load_example_analysis_data()
    stats = perform_statistical_analysis(data)
    
    # Panel 1: Key trajectory facts
    axes[0,0].text(0.5, 0.9, 'TRAJECTORY SUMMARY', ha='center', va='top', 
                   fontsize=16, fontweight='bold', transform=axes[0,0].transAxes)
    
    summary_text = f"""
📍 DEPLOYMENT LOCATION:
{data['latitude'].iloc[0]:.1f}°N, {abs(data['longitude'].iloc[0]):.1f}°W

📅 DURATION: {stats['deployment_days']} days

🌊 DISTANCE TRAVELED: {stats['total_distance']:.0f} km

📐 NET DISPLACEMENT: {stats['net_displacement']:.0f} km

🌀 TRAJECTORY COMPLEXITY:
Displacement ratio = {stats['displacement_ratio']:.3f}
(Lower values = more meandering)

🚢 AVERAGE SPEED: {stats['total_distance']/stats['deployment_days']:.1f} km/day
"""
    
    axes[0,0].text(0.05, 0.75, summary_text, ha='left', va='top', 
                   fontsize=12, transform=axes[0,0].transAxes,
                   bbox=dict(boxstyle="round,pad=0.5", facecolor="lightblue", alpha=0.7))
    axes[0,0].set_xlim(0, 1)
    axes[0,0].set_ylim(0, 1)
    axes[0,0].axis('off')
    
    # Panel 2: Temperature findings
    axes[0,1].text(0.5, 0.9, 'TEMPERATURE FINDINGS', ha='center', va='top', 
                   fontsize=16, fontweight='bold', transform=axes[0,1].transAxes)
    
    temp_text = f"""
🌡️ TEMPERATURE RANGE:
{data['sst'].min():.1f}°C to {data['sst'].max():.1f}°C

📊 AVERAGE: {data['sst'].mean():.1f}°C

🌐 LATITUDE EFFECT:
{abs(stats['temp_gradient']):.3f}°C decrease per degree north

📅 SEASONAL CYCLE:
Amplitude = {stats['seasonal_amplitude']:.1f}°C
Warmest: Month {stats['warmest_month']}
Coolest: Month {stats['coolest_month']}

🔥 WARMEST WATER: Tropical regions
🧊 COOLEST WATER: Northern latitudes
"""
    
    axes[0,1].text(0.05, 0.75, temp_text, ha='left', va='top', 
                   fontsize=12, transform=axes[0,1].transAxes,
                   bbox=dict(boxstyle="round,pad=0.5", facecolor="lightcoral", alpha=0.7))
    axes[0,1].set_xlim(0, 1)
    axes[0,1].set_ylim(0, 1)
    axes[0,1].axis('off')
    
    # Panel 3: Current findings
    axes[1,0].text(0.5, 0.9, 'CURRENT ANALYSIS', ha='center', va='top', 
                   fontsize=16, fontweight='bold', transform=axes[1,0].transAxes)
    
    current_text = f"""
🌊 CURRENT SPEED RANGE:
0 to {stats['max_speed']:.0f} cm/s

📈 AVERAGE SPEED: {stats['mean_speed']:.1f} cm/s

⚡ STRONG CURRENTS (>50 cm/s):
Encountered {stats['strong_current_percent']:.1f}% of time

🌪️ GULF STREAM SIGNATURE:
High-speed encounters indicate
interaction with major boundary currents

🔄 FLOW PATTERNS:
Complex directions showing eddies
and meandering current systems
"""
    
    axes[1,0].text(0.05, 0.75, current_text, ha='left', va='top', 
                   fontsize=12, transform=axes[1,0].transAxes,
                   bbox=dict(boxstyle="round,pad=0.5", facecolor="lightgreen", alpha=0.7))
    axes[1,0].set_xlim(0, 1)
    axes[1,0].set_ylim(0, 1)
    axes[1,0].axis('off')
    
    # Panel 4: Scientific significance
    axes[1,1].text(0.5, 0.9, 'SCIENTIFIC SIGNIFICANCE', ha='center', va='top', 
                   fontsize=16, fontweight='bold', transform=axes[1,1].transAxes)
    
    significance_text = """
🔬 OCEAN SCIENCE:
• Validates climate models
• Documents circulation patterns
• Tracks ocean heat transport

🌍 CLIMATE RESEARCH:
• Gulf Stream influences European climate
• Temperature patterns affect weather
• Current changes impact ecosystems

📊 DATA QUALITY:
• High-resolution observations
• Long-term continuous record
• Global observational network

🚀 APPLICATIONS:
• Search and rescue operations
• Marine ecosystem studies
• Climate change monitoring
• Weather forecasting improvement
"""
    
    axes[1,1].text(0.05, 0.75, significance_text, ha='left', va='top', 
                   fontsize=12, transform=axes[1,1].transAxes,
                   bbox=dict(boxstyle="round,pad=0.5", facecolor="lightyellow", alpha=0.7))
    axes[1,1].set_xlim(0, 1)
    axes[1,1].set_ylim(0, 1)
    axes[1,1].axis('off')
    
    # Add footer with key message
    fig.text(0.5, 0.02, '🌊 Surface drifters reveal the ocean\'s hidden dynamics and help us understand Earth\'s climate system 🌊', 
             ha='center', va='bottom', fontsize=14, fontweight='bold', 
             bbox=dict(boxstyle="round,pad=0.5", facecolor="lightsteelblue", alpha=0.8))
    
    plt.tight_layout()
    plt.subplots_adjust(top=0.90, bottom=0.08)
    plt.savefig('presentation_summary.png', dpi=300, bbox_inches='tight')
    plt.show()
    
    print("🎯 Presentation summary created!")
    print("📊 Perfect for talks, posters, or executive summaries")

def create_writing_guidelines():
    """
    Provide guidelines for scientific writing and communication.
    
    This gives students practical tools for future scientific communication.
    """
    guidelines = """
📝 SCIENTIFIC WRITING GUIDELINES
===============================

🎯 KEY PRINCIPLES:

1. CLARITY IS KING
   • Use simple, direct language
   • Define technical terms
   • One main idea per sentence
   • Active voice when possible

2. STRUCTURE MATTERS
   • Abstract: One sentence per main section
   • Introduction: Context → Gap → Approach
   • Methods: Reproducible detail
   • Results: Objective facts only
   • Discussion: Interpretation + limitations
   • Conclusions: Clear take-home messages

3. FIGURE BEST PRACTICES
   • Self-contained captions (tell the full story)
   • Professional color schemes
   • Clear axis labels with units
   • Appropriate figure types for data
   • High resolution (300 DPI minimum)

4. DATA PRESENTATION
   • Show uncertainty (error bars, confidence intervals)
   • Include sample sizes
   • Use appropriate statistical tests
   • Don't over-interpret results
   • Show representative examples

🎨 FIGURE CAPTION FORMULA:

"Figure X. [Brief descriptive title]. [Detailed explanation of what is shown]. 
[Key results or patterns]. [Sample sizes and statistical information if relevant]. 
[Broader context or significance]."

Example:
"Figure 1. Surface drifter trajectory in the North Atlantic Ocean from January to July 2023. 
The drifter traveled 3,250 km over 180 days, showing characteristic patterns of Gulf Stream 
transport and subsequent eastward drift. Colors indicate time progression from deployment 
(purple) to final position (yellow). The complex trajectory demonstrates typical North 
Atlantic circulation patterns including boundary current transport and eddy interactions."

📊 RESULTS VS DISCUSSION:

RESULTS (What you found):
❌ "The temperature decreased because the drifter moved north"
✅ "Temperature decreased from 28°C to 15°C as latitude increased from 15°N to 45°N"

DISCUSSION (What it means):
✅ "The temperature decrease with latitude reflects the fundamental pattern of solar 
heating, with implications for marine ecosystem distributions and climate dynamics."

🔍 COMMON MISTAKES TO AVOID:

• Don't repeat figure captions in the text
• Don't over-interpret small sample sizes
• Don't ignore outliers without explanation  
• Don't use jargon without definition
• Don't make claims beyond your data
• Don't forget to cite relevant literature

📈 QUANTITATIVE LANGUAGE:

Instead of "a lot" → "75% of observations"
Instead of "fast" → "exceeding 50 cm/s"
Instead of "warm" → "temperatures above 25°C"
Instead of "recently" → "in the past decade"

🎯 AUDIENCE AWARENESS:

For scientists: Technical detail, statistical rigor
For managers: Executive summary, practical implications  
For public: Simple language, relatable examples
For students: Learning context, clear explanations

📝 REVISION CHECKLIST:

□ Is the main message clear in the abstract?
□ Can figures stand alone with their captions?
□ Are methods sufficiently detailed for reproduction?
□ Do results contain only facts (no interpretation)?
□ Does discussion address limitations?
□ Are conclusions supported by the data?
□ Is the writing clear and concise?
□ Have all abbreviations been defined?

🌟 REMEMBER: Great science poorly communicated is wasted science!
"""
    
    print(guidelines)
    
    # Save guidelines to file
    with open('scientific_writing_guidelines.txt', 'w') as f:
        f.write(guidelines)
    
    print("💾 Guidelines saved as 'scientific_writing_guidelines.txt'")
    print("📖 Use this reference for all your future scientific writing!")

def main():
    """
    Main function that creates a complete scientific analysis and report.
    
    This teaches students the entire process of scientific communication!
    """
    print("📝 LESSON 7: CREATING SCIENTIFIC REPORTS")
    print("=" * 50)
    print()
    print("Welcome to scientific communication! 🎯")
    print("Today you'll learn to transform your data analysis into")
    print("professional scientific reports that clearly communicate")
    print("your findings to the scientific community and beyond.")
    print()
    print("You'll create:")
    print("• Professional publication-quality figures")
    print("• A complete scientific report")
    print("• A presentation summary")
    print("• Guidelines for future scientific writing")
    print()
    
    # Step 1: Load comprehensive dataset
    print("STEP 1: Loading comprehensive analysis dataset...")
    data = load_example_analysis_data()
    
    # Add time colors for consistent plotting
    time_colors = (data['time'] - data['time'].min()).dt.days
    globals()['time_colors'] = time_colors  # Make available to other functions
    
    # Step 2: Create professional figures
    print("\nSTEP 2: Creating publication-quality figures...")
    
    caption_1 = create_figure_1_trajectory(data)
    caption_2 = create_figure_2_temperature_analysis(data)
    caption_3 = create_figure_3_current_analysis(data)
    
    captions = [caption_1, caption_2, caption_3]
    
    # Step 3: Perform statistical analysis
    print("\nSTEP 3: Conducting statistical analysis...")
    stats = perform_statistical_analysis(data)
    
    # Step 4: Generate complete scientific report
    print("\nSTEP 4: Generating scientific report...")
    report = generate_scientific_report(data, stats, captions)
    
    # Step 5: Create presentation summary
    create_presentation_summary()
    
    # Step 6: Provide writing guidelines
    print("\nSTEP 6: Providing scientific writing guidelines...")
    create_writing_guidelines()
    
    print("\n" + "=" * 50)
    print("🎉 LESSON 7 COMPLETE!")
    print("\nWhat you've accomplished:")
    print("• Created 3 publication-quality scientific figures")
    print("• Performed comprehensive statistical analysis")
    print("• Generated a complete scientific report")
    print("• Made a presentation-ready summary")
    print("• Learned professional writing guidelines")
    print("\n📊 Files created:")
    print("   📈 figure_1_trajectory.png")
    print("   📈 figure_2_temperature_analysis.png") 
    print("   📈 figure_3_current_analysis.png")
    print("   📈 presentation_summary.png")
    print("   📄 scientific_report_north_atlantic_drifter.md")
    print("   📋 scientific_writing_guidelines.txt")
    print("\n🌟 Key skills learned:")
    print("• Professional figure design and captioning")
    print("• Statistical analysis and interpretation")
    print("• Scientific report structure and style")
    print("• Data storytelling and communication")
    print("• Quality control and validation")
    print("\n🎯 You're now ready to communicate science like a professional!")
    print("These skills will serve you in research, industry, and beyond.")
    print("\n🚀 Ready for the final lesson: Advanced Analysis Techniques!")
    print("=" * 50)

# Educational extensions and career connections
"""
🎓 EDUCATIONAL EXTENSIONS:

COMMUNICATION SKILLS:
1. Scientific Writing:
   - Peer review process
   - Journal submission guidelines
   - Grant proposal writing
   - Technical report standards

2. Visual Communication:
   - Color theory for scientific figures
   - Typography and layout principles
   - Data visualization best practices
   - Infographic design

3. Presentation Skills:
   - Conference presentations
   - Poster design
   - Public science communication
   - Media interviews

CAREER APPLICATIONS:
- Research scientist positions
- Science communication roles
- Technical writing careers
- Data analyst positions
- Environmental consulting
- Government agency work
- Science journalism
- Science museum education

REAL-WORLD IMPACT:
- Research publications advance knowledge
- Reports influence policy decisions
- Clear communication saves lives (weather, climate)
- Good figures help public understand science
- Professional reports build trust in science

ADVANCED SKILLS:
- Interactive visualizations
- Web-based science communication
- Video and multimedia content
- Social media science engagement
- Cross-cultural communication
- Interdisciplinary collaboration

EVALUATION RUBRIC:
□ Figures are publication-quality
□ Captions are complete and self-contained
□ Statistical analysis is appropriate
□ Results are clearly separated from interpretation
□ Conclusions are supported by data
□ Writing is clear and professional
□ Technical accuracy is maintained
□ Audience needs are considered
"""

if __name__ == "__main__":
    main()
